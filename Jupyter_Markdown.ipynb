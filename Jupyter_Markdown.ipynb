{
 "cells": [
  {
   "cell_type": "markdown",
   "id": "5a546e76",
   "metadata": {},
   "source": [
    "# S02 T01 - Jupiter Notebook & Markdown"
   ]
  },
  {
   "cell_type": "markdown",
   "id": "fa5cacaf",
   "metadata": {},
   "source": [
    "[link]:  https://github.com/adria06/Jupyter_Markdown.git\n",
    "El exercici es pot veure a aquest [link]"
   ]
  },
  {
   "cell_type": "markdown",
   "id": "e28d7745",
   "metadata": {},
   "source": [
    "## Nivell 1 - Exercicis 1, 2 i 3\n",
    "- [x] Exercici 1 - Instalar Anaconda, Python 3 i Jupyter Notebook\n",
    "- [ ] Exercici 2 - Calcul sencills amb Jupyter Notebook\n",
    "- [ ] Exercici 3 - Crear titols, llistes, carviar estils i afegir imatges"
   ]
  },
  {
   "cell_type": "markdown",
   "id": "d1f796e6",
   "metadata": {},
   "source": [
    "### Esto es un simple programa que hace:\n",
    " * _**Suma**_ 2 numeros\n",
    " * _**Resta**_ 2 numeros\n",
    " * _**Multiplica**_ 2 numeros\n",
    " * ~~_**Divide**_ 2 numeros~~"
   ]
  },
  {
   "cell_type": "code",
   "execution_count": 6,
   "id": "1304e9b4",
   "metadata": {},
   "outputs": [
    {
     "name": "stdout",
     "output_type": "stream",
     "text": [
      "Introduce un numero: 0\n",
      "La suma de 2 y 0 es  2\n",
      "La resta de 2 menos 0 es  2\n",
      "La multiplicacion de 2 y 0 es  0\n",
      "Como el numero introducido es cero no puedo hacer la division de 2 entre 0\n"
     ]
    }
   ],
   "source": [
    "y = int(input(\"Introduce un numero: \"))\n",
    "#x, y = 2, 3\n",
    "x = 2\n",
    "print ('La suma de 2 y', y, 'es ', x+y)\n",
    "print ('La resta de 2 menos', y, 'es ', x-y)\n",
    "print ('La multiplicacion de 2 y', y, 'es ', x*y)\n",
    "if y!=0:\n",
    "    print (\"Y como el numero introducido no es cero tambien hago la division de 2 entre\", y, \"que es\", x/y)\n",
    "else:\n",
    "    print ('Como el numero introducido es cero no puedo hacer la division de 2 entre', y)"
   ]
  },
  {
   "attachments": {
    "WellDoneGIF.jfif": {
     "image/jpeg": "[encoded data removed]"
    }
   },
   "cell_type": "markdown",
   "id": "586835eb",
   "metadata": {},
   "source": [
    "![WellDoneGIF.jfif](attachment:WellDoneGIF.jfif)"
   ]
  },
  {
   "cell_type": "markdown",
   "id": "41ad8777",
   "metadata": {},
   "source": [
    "**Nivell 1 - Completat** \n",
    "- [x] Exercici 1 - Instalar Anaconda, Python 3 i Jupyter Notebook\n",
    "- [x] Exercici 2 - Calcul sencills amb Jupyter Notebook\n",
    "- [x] Exercici 3 - Crear titols, llistes, carviar estils i afegir imatges"
   ]
  },
  {
   "cell_type": "markdown",
   "id": "f3902cb6",
   "metadata": {},
   "source": [
    "## Nivell 2 - Exportar el Notebook com a pdf i com a html"
   ]
  },
  {
   "cell_type": "markdown",
   "id": "f0843964",
   "metadata": {},
   "source": [
    "**Nivell 2 - Completat**"
   ]
  },
  {
   "cell_type": "markdown",
   "id": "b6fcacd9",
   "metadata": {},
   "source": [
    "## Nivell 3 - Instal·la Nbextensions al Notebook de Jupyter"
   ]
  },
  {
   "cell_type": "markdown",
   "id": "ac72c4fb",
   "metadata": {},
   "source": [
    "**Nivell 3 - Completat**"
   ]
  }
 ],
 "metadata": {
  "hide_input": false,
  "kernelspec": {
   "display_name": "Python 3",
   "language": "python",
   "name": "python3"
  },
  "language_info": {
   "codemirror_mode": {
    "name": "ipython",
    "version": 3
   },
   "file_extension": ".py",
   "mimetype": "text/x-python",
   "name": "python",
   "nbconvert_exporter": "python",
   "pygments_lexer": "ipython3",
   "version": "3.8.8"
  },
  "toc": {
   "base_numbering": 1,
   "nav_menu": {},
   "number_sections": true,
   "sideBar": true,
   "skip_h1_title": false,
   "title_cell": "Table of Contents",
   "title_sidebar": "Contents",
   "toc_cell": false,
   "toc_position": {},
   "toc_section_display": true,
   "toc_window_display": false
  },
  "varInspector": {
   "cols": {
    "lenName": 16,
    "lenType": 16,
    "lenVar": 40
   },
   "kernels_config": {
    "python": {
     "delete_cmd_postfix": "",
     "delete_cmd_prefix": "del ",
     "library": "var_list.py",
     "varRefreshCmd": "print(var_dic_list())"
    },
    "r": {
     "delete_cmd_postfix": ") ",
     "delete_cmd_prefix": "rm(",
     "library": "var_list.r",
     "varRefreshCmd": "cat(var_dic_list()) "
    }
   },
   "types_to_exclude": [
    "module",
    "function",
    "builtin_function_or_method",
    "instance",
    "_Feature"
   ],
   "window_display": false
  }
 },
 "nbformat": 4,
 "nbformat_minor": 5
}
